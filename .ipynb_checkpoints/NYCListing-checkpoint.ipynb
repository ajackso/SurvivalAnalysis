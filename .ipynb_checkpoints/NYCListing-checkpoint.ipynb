{
 "cells": [
  {
   "cell_type": "code",
   "execution_count": 34,
   "metadata": {
    "collapsed": true
   },
   "outputs": [],
   "source": [
    "from __future__ import print_function, division\n",
    "\n",
    "% matplotlib inline\n",
    "import warnings\n",
    "warnings.filterwarnings('ignore')\n",
    "\n",
    "import math\n",
    "import numpy as np\n",
    "\n",
    "from thinkbayes2 import Pmf, Cdf, Suite, Joint\n",
    "import thinkplot\n",
    "\n",
    "import pandas as pd\n",
    "import pickle"
   ]
  },
  {
   "cell_type": "code",
   "execution_count": 35,
   "metadata": {
    "collapsed": false
   },
   "outputs": [],
   "source": [
    "df = pd.read_pickle(\"NYC_listing_pickle\")"
   ]
  },
  {
   "cell_type": "code",
   "execution_count": 36,
   "metadata": {
    "collapsed": false
   },
   "outputs": [
    {
     "data": {
      "text/html": [
       "<div>\n",
       "<table border=\"1\" class=\"dataframe\">\n",
       "  <thead>\n",
       "    <tr style=\"text-align: right;\">\n",
       "      <th></th>\n",
       "      <th>host_since</th>\n",
       "      <th>city</th>\n",
       "      <th>zipcode</th>\n",
       "      <th>latitude</th>\n",
       "      <th>longitude</th>\n",
       "    </tr>\n",
       "    <tr>\n",
       "      <th>id</th>\n",
       "      <th></th>\n",
       "      <th></th>\n",
       "      <th></th>\n",
       "      <th></th>\n",
       "      <th></th>\n",
       "    </tr>\n",
       "  </thead>\n",
       "  <tbody>\n",
       "    <tr>\n",
       "      <th>3943387</th>\n",
       "      <td>2014-08-23</td>\n",
       "      <td>Bronx</td>\n",
       "      <td>10464</td>\n",
       "      <td>40.839396</td>\n",
       "      <td>-73.781437</td>\n",
       "    </tr>\n",
       "    <tr>\n",
       "      <th>6627449</th>\n",
       "      <td>2014-04-04</td>\n",
       "      <td>City Island</td>\n",
       "      <td>10464</td>\n",
       "      <td>40.849775</td>\n",
       "      <td>-73.786609</td>\n",
       "    </tr>\n",
       "    <tr>\n",
       "      <th>11675715</th>\n",
       "      <td>2016-01-30</td>\n",
       "      <td>City Island</td>\n",
       "      <td>10464</td>\n",
       "      <td>40.850376</td>\n",
       "      <td>-73.784681</td>\n",
       "    </tr>\n",
       "    <tr>\n",
       "      <th>1886820</th>\n",
       "      <td>2013-11-04</td>\n",
       "      <td>Bronx</td>\n",
       "      <td>10464</td>\n",
       "      <td>40.841144</td>\n",
       "      <td>-73.783052</td>\n",
       "    </tr>\n",
       "    <tr>\n",
       "      <th>5557381</th>\n",
       "      <td>2015-03-05</td>\n",
       "      <td>Bronx</td>\n",
       "      <td>10464</td>\n",
       "      <td>40.850024</td>\n",
       "      <td>-73.789328</td>\n",
       "    </tr>\n",
       "    <tr>\n",
       "      <th>958444</th>\n",
       "      <td>2013-02-24</td>\n",
       "      <td>Bronx</td>\n",
       "      <td>10464</td>\n",
       "      <td>40.852350</td>\n",
       "      <td>-73.788728</td>\n",
       "    </tr>\n",
       "    <tr>\n",
       "      <th>8053533</th>\n",
       "      <td>2015-08-25</td>\n",
       "      <td>Bronx</td>\n",
       "      <td>10464</td>\n",
       "      <td>40.848202</td>\n",
       "      <td>-73.789293</td>\n",
       "    </tr>\n",
       "    <tr>\n",
       "      <th>9147025</th>\n",
       "      <td>2011-02-21</td>\n",
       "      <td>Bronx</td>\n",
       "      <td>10464</td>\n",
       "      <td>40.844870</td>\n",
       "      <td>-73.789541</td>\n",
       "    </tr>\n",
       "    <tr>\n",
       "      <th>7949480</th>\n",
       "      <td>2010-05-06</td>\n",
       "      <td>Bronx</td>\n",
       "      <td>10464</td>\n",
       "      <td>40.852054</td>\n",
       "      <td>-73.788680</td>\n",
       "    </tr>\n",
       "    <tr>\n",
       "      <th>755528</th>\n",
       "      <td>2012-09-26</td>\n",
       "      <td>Bronx</td>\n",
       "      <td>10467</td>\n",
       "      <td>40.858397</td>\n",
       "      <td>-73.869686</td>\n",
       "    </tr>\n",
       "    <tr>\n",
       "      <th>501568</th>\n",
       "      <td>2011-11-03</td>\n",
       "      <td>Bronx</td>\n",
       "      <td>10469</td>\n",
       "      <td>40.868983</td>\n",
       "      <td>-73.851274</td>\n",
       "    </tr>\n",
       "    <tr>\n",
       "      <th>4303051</th>\n",
       "      <td>2011-11-03</td>\n",
       "      <td>Bronx</td>\n",
       "      <td>10469</td>\n",
       "      <td>40.868076</td>\n",
       "      <td>-73.848490</td>\n",
       "    </tr>\n",
       "    <tr>\n",
       "      <th>12496118</th>\n",
       "      <td>2014-01-14</td>\n",
       "      <td>Bronx</td>\n",
       "      <td>10469</td>\n",
       "      <td>40.869469</td>\n",
       "      <td>-73.859935</td>\n",
       "    </tr>\n",
       "    <tr>\n",
       "      <th>759901</th>\n",
       "      <td>2011-07-26</td>\n",
       "      <td>Bronx</td>\n",
       "      <td>10469</td>\n",
       "      <td>40.866331</td>\n",
       "      <td>-73.856428</td>\n",
       "    </tr>\n",
       "    <tr>\n",
       "      <th>3429765</th>\n",
       "      <td>2014-06-02</td>\n",
       "      <td>Bronx</td>\n",
       "      <td>10469</td>\n",
       "      <td>40.866889</td>\n",
       "      <td>-73.857756</td>\n",
       "    </tr>\n",
       "  </tbody>\n",
       "</table>\n",
       "</div>"
      ],
      "text/plain": [
       "          host_since         city zipcode   latitude  longitude\n",
       "id                                                             \n",
       "3943387   2014-08-23        Bronx   10464  40.839396 -73.781437\n",
       "6627449   2014-04-04  City Island   10464  40.849775 -73.786609\n",
       "11675715  2016-01-30  City Island   10464  40.850376 -73.784681\n",
       "1886820   2013-11-04        Bronx   10464  40.841144 -73.783052\n",
       "5557381   2015-03-05        Bronx   10464  40.850024 -73.789328\n",
       "958444    2013-02-24        Bronx   10464  40.852350 -73.788728\n",
       "8053533   2015-08-25        Bronx   10464  40.848202 -73.789293\n",
       "9147025   2011-02-21        Bronx   10464  40.844870 -73.789541\n",
       "7949480   2010-05-06        Bronx   10464  40.852054 -73.788680\n",
       "755528    2012-09-26        Bronx   10467  40.858397 -73.869686\n",
       "501568    2011-11-03        Bronx   10469  40.868983 -73.851274\n",
       "4303051   2011-11-03        Bronx   10469  40.868076 -73.848490\n",
       "12496118  2014-01-14        Bronx   10469  40.869469 -73.859935\n",
       "759901    2011-07-26        Bronx   10469  40.866331 -73.856428\n",
       "3429765   2014-06-02        Bronx   10469  40.866889 -73.857756"
      ]
     },
     "execution_count": 36,
     "metadata": {},
     "output_type": "execute_result"
    }
   ],
   "source": [
    "df.head(15)"
   ]
  },
  {
   "cell_type": "code",
   "execution_count": 37,
   "metadata": {
    "collapsed": true
   },
   "outputs": [],
   "source": [
    "def replaceZipcodes(zipcodes,newZipcodes):\n",
    "    '''replaces the zipcode in the dataframe with \n",
    "    a new zipcode'''\n",
    "    for i,z in zip(zipcodes,newZipcodes):\n",
    "        index = df[df['zipcode'] == i].index.tolist()\n",
    "        df.set_value(index,'zipcode',z).head(5)"
   ]
  },
  {
   "cell_type": "code",
   "execution_count": 38,
   "metadata": {
    "collapsed": true
   },
   "outputs": [],
   "source": [
    "zipcodes = ['11426-1175','10002-2289','10003\\n10003','10003-8623','11205-4471','8456422473 call for more details','11103-3233']\n",
    "newZipcodes = ['11426','10002','10003','10003','11205','10021','11103']\n",
    "replaceZipcodes(zipcodes,newZipcodes)"
   ]
  },
  {
   "cell_type": "markdown",
   "metadata": {},
   "source": [
    "#### We defined each neighborhood to be 1x1 mile. Using a calculator (see index below), we found the distance of the longitude to be 32.64 miles (52.53 km) by longitude and 33.64 miles (54.13 km) by latitude. "
   ]
  },
  {
   "cell_type": "markdown",
   "metadata": {},
   "source": [
    "### Assumptions"
   ]
  },
  {
   "cell_type": "markdown",
   "metadata": {},
   "source": [
    "#### We assume every listing in airbnb listing.csv is unique and represents a different home/apartment/sublet (living residence). Furthermore, we will find the number of houses in a neighborhood using motovo.com. All homes listed on motovo.com when we input the zipcode, will represent the number of homes in that zipcode and the neighborhood. "
   ]
  },
  {
   "cell_type": "code",
   "execution_count": 39,
   "metadata": {
    "collapsed": true
   },
   "outputs": [],
   "source": [
    "import geopy"
   ]
  },
  {
   "cell_type": "code",
   "execution_count": 40,
   "metadata": {
    "collapsed": false
   },
   "outputs": [
    {
     "data": {
      "text/plain": [
       "id\n",
       "3943387     10464\n",
       "6627449     10464\n",
       "11675715    10464\n",
       "1886820     10464\n",
       "5557381     10464\n",
       "958444      10464\n",
       "8053533     10464\n",
       "9147025     10464\n",
       "7949480     10464\n",
       "755528      10467\n",
       "Name: zipcode, dtype: object"
      ]
     },
     "execution_count": 40,
     "metadata": {},
     "output_type": "execute_result"
    }
   ],
   "source": [
    "df.zipcode.head(10) # need to count how many zipcodes are NaN"
   ]
  },
  {
   "cell_type": "code",
   "execution_count": 41,
   "metadata": {
    "collapsed": false
   },
   "outputs": [],
   "source": [
    "coordinateList = zip(df.latitude, df.longitude, df.zipcode)"
   ]
  },
  {
   "cell_type": "code",
   "execution_count": 42,
   "metadata": {
    "collapsed": false
   },
   "outputs": [],
   "source": [
    "max_lat = df.max(axis=0)['latitude']\n",
    "max_long =  df.max(axis=0)['longitude']\n",
    "min_lat = df.min(axis=0)['latitude']\n",
    "min_long = df.min(axis=0)['longitude']\n",
    "max_long_row = df.loc[df['longitude']== max_long]\n",
    "min_long_row = df.loc[df['longitude']== min_long]\n",
    "max_lat_row = df.loc[df['latitude']== max_lat]\n",
    "min_lat_row = df.loc[df['latitude']== min_lat]\n",
    "corresponding_long_of_min_lat = -74.240843\n",
    "corresponding_lat_of_min_long = 40.499794"
   ]
  },
  {
   "cell_type": "code",
   "execution_count": 43,
   "metadata": {
    "collapsed": false
   },
   "outputs": [],
   "source": [
    "from geopy import distance\n",
    "\n",
    "def find_distance(in_lat, in_long):\n",
    "    '''Paramters: Lat and long of house listing.\n",
    "       Output: 0 < lat < 33.64 and 0 < long < 32.64\n",
    "       We calculate the long difference and lat difference by isolating the variables and fixing the other \n",
    "       to be the corresponding fixed varaible of the minimum free variable. \n",
    "    '''\n",
    "    diff_long = distance.vincenty((corresponding_lat_of_min_long, in_long), (corresponding_lat_of_min_long, min_long)).miles\n",
    "    diff_lat = distance.vincenty((in_lat,  corresponding_long_of_min_lat), (min_lat, corresponding_long_of_min_lat)).miles\n",
    "    return (diff_lat, diff_long)"
   ]
  },
  {
   "cell_type": "code",
   "execution_count": 44,
   "metadata": {
    "collapsed": false
   },
   "outputs": [
    {
     "data": {
      "text/plain": [
       "(19.58333832402766, 14.396840047098028)"
      ]
     },
     "execution_count": 44,
     "metadata": {},
     "output_type": "execute_result"
    }
   ],
   "source": [
    "find_distance(40.783605,-73.967515)"
   ]
  },
  {
   "cell_type": "code",
   "execution_count": 45,
   "metadata": {
    "collapsed": false
   },
   "outputs": [],
   "source": [
    "import math\n",
    "n_grid = {}\n",
    "n_grid_zipcodes = {}\n",
    "\n",
    "def isNaN(num):\n",
    "    return num != num\n",
    "\n",
    "from decimal import *\n",
    "getcontext().prec = 2\n",
    "\n",
    "def round_num(x):\n",
    "    return int(x)\n",
    "   # return float(\"{0:.2f}\".format(x))\n",
    "index = 0\n",
    "for coor in coordinateList:\n",
    "    latitude,longitude, zipcode = coor\n",
    "    res_distance = find_distance(latitude,longitude)\n",
    "    out_distance = (round_num(res_distance[0]), round_num(res_distance[1]))\n",
    "    # places lat,long values in zipcode grid\n",
    "    if isNaN(zipcode) is False:\n",
    "        if type(zipcode) is float:\n",
    "            zipcode = int(zipcode) \n",
    "        zipcode = str(zipcode)\n",
    "        if n_grid_zipcodes.get(zipcode) is None:\n",
    "            n_grid_zipcodes[zipcode] = set() \n",
    "        n_grid_zipcodes[zipcode].add(out_distance)\n",
    "        \n",
    "    # counts the number of neighborhoods per zipcode\n",
    "    if  n_grid.get(out_distance) is None:\n",
    "        n_grid[out_distance] = []\n",
    "    else:\n",
    "        n_grid[out_distance].append(index)\n",
    "    index = index + 1"
   ]
  },
  {
   "cell_type": "code",
   "execution_count": 46,
   "metadata": {
    "collapsed": true
   },
   "outputs": [],
   "source": [
    "# n_grid "
   ]
  },
  {
   "cell_type": "code",
   "execution_count": 47,
   "metadata": {
    "collapsed": false
   },
   "outputs": [],
   "source": [
    "# import json\n",
    "# with open('n_grid.txt', 'w') as outfile:\n",
    "#     json.dump(str(n_grid), outfile)"
   ]
  },
  {
   "cell_type": "code",
   "execution_count": 48,
   "metadata": {
    "collapsed": true
   },
   "outputs": [],
   "source": [
    "# n_grid_zipcodes"
   ]
  },
  {
   "cell_type": "code",
   "execution_count": 49,
   "metadata": {
    "collapsed": false
   },
   "outputs": [],
   "source": [
    "n = len(n_grid_zipcodes)"
   ]
  },
  {
   "cell_type": "code",
   "execution_count": 50,
   "metadata": {
    "collapsed": false
   },
   "outputs": [
    {
     "data": {
      "text/plain": [
       "201"
      ]
     },
     "execution_count": 50,
     "metadata": {},
     "output_type": "execute_result"
    }
   ],
   "source": [
    "n"
   ]
  },
  {
   "cell_type": "code",
   "execution_count": 51,
   "metadata": {
    "collapsed": true
   },
   "outputs": [],
   "source": [
    "from itertools import islice\n",
    "def take(n,iterable):\n",
    "    ''''Return first n iterms of the iterable as a list'''\n",
    "    return list(islice(iterable,n))"
   ]
  },
  {
   "cell_type": "code",
   "execution_count": 52,
   "metadata": {
    "collapsed": true
   },
   "outputs": [],
   "source": [
    "firstHalfOrig = [10270,10279,10280,10281,10282,12337,10301,10303,10304,10305,10308,10312,10314,11354,11355,11356,11357,\n",
    "11358,11360,11361,11362,11364,11365,11366,11367,11368,11369,11370,11372,11373,11374,11375,11377,11379,11385,10080,7305,\n",
    "11411,11412,11413,11415,11416,11417,11418,11419,11421,11423,11426,11427,11432,11434,11435,10451,10452,10453,10454,\n",
    "10455,10456,10457,10458,10459,10460,10462,10463,10464,10465,10466,10467,10468,10469,10471,10472,10473,10475,11001,\n",
    "11004,10001,10002,10003,10004,10005,10006]"
   ]
  },
  {
   "cell_type": "code",
   "execution_count": 53,
   "metadata": {
    "collapsed": true
   },
   "outputs": [],
   "source": [
    "firstHalfOrigString = [str(i) for i in firstHalfOrig]\n",
    "b = set(firstHalfOrigString)"
   ]
  },
  {
   "cell_type": "code",
   "execution_count": 54,
   "metadata": {
    "collapsed": false
   },
   "outputs": [],
   "source": [
    "allZipcodes = take((n),n_grid_zipcodes)\n",
    "c = set(allZipcodes)"
   ]
  },
  {
   "cell_type": "code",
   "execution_count": 55,
   "metadata": {
    "collapsed": true
   },
   "outputs": [],
   "source": [
    "secondHalfOrig = c-b"
   ]
  },
  {
   "cell_type": "code",
   "execution_count": 56,
   "metadata": {
    "collapsed": false,
    "scrolled": false
   },
   "outputs": [],
   "source": [
    "relative_times = {}\n",
    "import time\n",
    "from datetime import datetime\n",
    "        \n",
    "def findMin():\n",
    "    '''find the pioneer - the first home in a\n",
    "    neighborhood to be listed on Airbnb'''\n",
    "    min_hashmap = {}\n",
    "    for key, value in n_grid.iteritems():\n",
    "        if len(value) > 0:\n",
    "            min_value = time.strftime(\"%Y-%m-%d\")\n",
    "            for i in range(len(value)):\n",
    "                host_since = df.iloc[i].host_since\n",
    "                host_datetime = time.strptime(host_since, \"%Y-%m-%d\")\n",
    "                if min_value < host_datetime:\n",
    "                    min_value = host_since\n",
    "            min_hashmap[key] = [min_value]\n",
    "    return min_hashmap\n",
    "\n",
    "min_hashmap = findMin()    "
   ]
  },
  {
   "cell_type": "code",
   "execution_count": 57,
   "metadata": {
    "collapsed": true
   },
   "outputs": [],
   "source": [
    "def get_relative_times():\n",
    "    '''Calculate the age of house listings in neighborhood based on\n",
    "    pioneer'''\n",
    "    relative_times = {}\n",
    "    for key, value in n_grid.iteritems():\n",
    "        if len(value) > 0:\n",
    "            min_time = min_hashmap[key]\n",
    "            min_time_l = datetime.strptime(min_time[0],\"%Y-%m-%d\")\n",
    "            for i in range(len(value)):\n",
    "                index = value[i]\n",
    "                curr_since = df.iloc[index].host_since\n",
    "                if type(curr_since) is not float:\n",
    "                    curr_datetime = datetime.strptime(str(curr_since),\"%Y-%m-%d\")\n",
    "                    diff = abs((curr_datetime - min_time_l).days)\n",
    "                    if relative_times.get(key) is None:\n",
    "                        relative_times[key] = [str(diff)]\n",
    "                    else:\n",
    "                        relative_times[key].append(str(diff))\n",
    "    return relative_times\n",
    "\n",
    "relative_times = get_relative_times()"
   ]
  },
  {
   "cell_type": "code",
   "execution_count": 60,
   "metadata": {
    "collapsed": true
   },
   "outputs": [],
   "source": [
    "# import json\n",
    "# with open('min_hashmap.txt', 'w') as outfile:\n",
    "#     json.dump(str(min_hashmap), outfile)"
   ]
  },
  {
   "cell_type": "code",
   "execution_count": 62,
   "metadata": {
    "collapsed": false
   },
   "outputs": [],
   "source": [
    "# with open('relative_hashmap.txt', 'w') as outfile:\n",
    "#     json.dump(str(relative_times), outfile)"
   ]
  },
  {
   "cell_type": "code",
   "execution_count": 63,
   "metadata": {
    "collapsed": true
   },
   "outputs": [],
   "source": [
    "def prepareData(grid, min_hash, rel_hash):\n",
    "    '''iterate through each neighborhood in grid and format \n",
    "    each listing as (isListed,age).\n",
    "    isListed: a boolean value\n",
    "    age: number of days that have passed since pioneer was listed on Airbnb\n",
    "    \n",
    "    Return a dictionary where the key is the neighborhood coordinates\n",
    "    and the value is a list of tuples. Each tuple represents a home in that neighborhood'''\n",
    "    n_dict = {}\n",
    "    homes = []\n",
    "    for key, value in grid.iteritems():\n",
    "        print key,val\n",
    "        listedHomes = rel_hash[key]\n",
    "        for age in listedHomes:\n",
    "            homes.append((True,age))\n",
    "        n_dict[key] = homes\n",
    "    return n_dict\n",
    "        "
   ]
  },
  {
   "cell_type": "code",
   "execution_count": 64,
   "metadata": {
    "collapsed": false
   },
   "outputs": [
    {
     "ename": "KeyError",
     "evalue": "(5, 5)",
     "output_type": "error",
     "traceback": [
      "\u001b[0;31m---------------------------------------------------------------------------\u001b[0m",
      "\u001b[0;31mKeyError\u001b[0m                                  Traceback (most recent call last)",
      "\u001b[0;32m<ipython-input-64-8d31df31e23f>\u001b[0m in \u001b[0;36m<module>\u001b[0;34m()\u001b[0m\n\u001b[0;32m----> 1\u001b[0;31m \u001b[0mneighborhoodData\u001b[0m \u001b[0;34m=\u001b[0m \u001b[0mprepareData\u001b[0m\u001b[0;34m(\u001b[0m\u001b[0mn_grid\u001b[0m\u001b[0;34m,\u001b[0m\u001b[0mmin_hashmap\u001b[0m\u001b[0;34m,\u001b[0m\u001b[0mrelative_times\u001b[0m\u001b[0;34m)\u001b[0m\u001b[0;34m\u001b[0m\u001b[0m\n\u001b[0m",
      "\u001b[0;32m<ipython-input-63-0749bc58b282>\u001b[0m in \u001b[0;36mprepareData\u001b[0;34m(grid, min_hash, rel_hash)\u001b[0m\n\u001b[1;32m     10\u001b[0m     \u001b[0mhomes\u001b[0m \u001b[0;34m=\u001b[0m \u001b[0;34m[\u001b[0m\u001b[0;34m]\u001b[0m\u001b[0;34m\u001b[0m\u001b[0m\n\u001b[1;32m     11\u001b[0m     \u001b[0;32mfor\u001b[0m \u001b[0mkey\u001b[0m\u001b[0;34m,\u001b[0m \u001b[0mvalue\u001b[0m \u001b[0;32min\u001b[0m \u001b[0mgrid\u001b[0m\u001b[0;34m.\u001b[0m\u001b[0miteritems\u001b[0m\u001b[0;34m(\u001b[0m\u001b[0;34m)\u001b[0m\u001b[0;34m:\u001b[0m\u001b[0;34m\u001b[0m\u001b[0m\n\u001b[0;32m---> 12\u001b[0;31m         \u001b[0mlistedHomes\u001b[0m \u001b[0;34m=\u001b[0m \u001b[0mrel_hash\u001b[0m\u001b[0;34m[\u001b[0m\u001b[0mkey\u001b[0m\u001b[0;34m]\u001b[0m\u001b[0;34m\u001b[0m\u001b[0m\n\u001b[0m\u001b[1;32m     13\u001b[0m         \u001b[0;32mfor\u001b[0m \u001b[0mage\u001b[0m \u001b[0;32min\u001b[0m \u001b[0mlistedHomes\u001b[0m\u001b[0;34m:\u001b[0m\u001b[0;34m\u001b[0m\u001b[0m\n\u001b[1;32m     14\u001b[0m             \u001b[0mhomes\u001b[0m\u001b[0;34m.\u001b[0m\u001b[0mappend\u001b[0m\u001b[0;34m(\u001b[0m\u001b[0;34m(\u001b[0m\u001b[0mTrue\u001b[0m\u001b[0;34m,\u001b[0m\u001b[0mage\u001b[0m\u001b[0;34m)\u001b[0m\u001b[0;34m)\u001b[0m\u001b[0;34m\u001b[0m\u001b[0m\n",
      "\u001b[0;31mKeyError\u001b[0m: (5, 5)"
     ]
    }
   ],
   "source": [
    "neighborhoodData = prepareData(n_grid,min_hashmap,relative_times)"
   ]
  },
  {
   "cell_type": "code",
   "execution_count": 58,
   "metadata": {
    "collapsed": true
   },
   "outputs": [],
   "source": [
    "def EvalWeibullPdf(x, lam, k):\n",
    "    \"\"\"Computes the Weibull PDF.\n",
    "\n",
    "    x: value\n",
    "    lam: parameter lambda in events per unit time\n",
    "    k: parameter\n",
    "\n",
    "    returns: float probability density\n",
    "    \"\"\"\n",
    "    arg = (x / lam)\n",
    "    return k / lam * arg**(k-1) * np.exp(-arg**k)\n",
    "\n",
    "def EvalWeibullCdf(x, lam, k):\n",
    "    \"\"\"Evaluates CDF of the Weibull distribution.\"\"\"\n",
    "    arg = (x / lam)\n",
    "    return 1 - np.exp(-arg**k)\n",
    "\n",
    "def MakeWeibullPmf(lam, k, high, n=200):\n",
    "    \"\"\"Makes a PMF discrete approx to a Weibull distribution.\n",
    "\n",
    "    lam: parameter lambda in events per unit time\n",
    "    k: parameter\n",
    "    high: upper bound\n",
    "    n: number of values in the Pmf\n",
    "\n",
    "    returns: normalized Pmf\n",
    "    \"\"\"\n",
    "    xs = np.linspace(0, high, n)\n",
    "    ps = EvalWeibullPdf(xs, lam, k)\n",
    "    return Pmf(dict(zip(xs, ps)))"
   ]
  },
  {
   "cell_type": "code",
   "execution_count": 59,
   "metadata": {
    "collapsed": false
   },
   "outputs": [],
   "source": [
    "class Airbnb(Suite, Joint):\n",
    "    \n",
    "    def Likelihood(self, data, hypo):\n",
    "        lam, k = hypo\n",
    "        if lam == 0:\n",
    "            return 0\n",
    "        isListed, age = data\n",
    "        if isListed == True:\n",
    "            like = EvalWeibullPdf(age, lam, k)\n",
    "        elif isListed == False:\n",
    "            like = 1 - EvalWeibullCdf(age, lam, k)\n",
    "        else:\n",
    "            raise ValueError('Invalid data')\n",
    "        return like"
   ]
  },
  {
   "cell_type": "code",
   "execution_count": null,
   "metadata": {
    "collapsed": true
   },
   "outputs": [],
   "source": []
  }
 ],
 "metadata": {
  "kernelspec": {
   "display_name": "Python 2",
   "language": "python",
   "name": "python2"
  },
  "language_info": {
   "codemirror_mode": {
    "name": "ipython",
    "version": 2
   },
   "file_extension": ".py",
   "mimetype": "text/x-python",
   "name": "python",
   "nbconvert_exporter": "python",
   "pygments_lexer": "ipython2",
   "version": "2.7.10"
  }
 },
 "nbformat": 4,
 "nbformat_minor": 0
}
