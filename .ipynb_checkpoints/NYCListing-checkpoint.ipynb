{
 "cells": [
  {
   "cell_type": "code",
   "execution_count": 1,
   "metadata": {
    "collapsed": true
   },
   "outputs": [],
   "source": [
    "import pandas as pd\n",
    "import pickle"
   ]
  },
  {
   "cell_type": "code",
   "execution_count": 2,
   "metadata": {
    "collapsed": false
   },
   "outputs": [],
   "source": [
    "df = pd.read_pickle(\"NYC_listing_pickle\")"
   ]
  },
  {
   "cell_type": "code",
   "execution_count": 3,
   "metadata": {
    "collapsed": false
   },
   "outputs": [
    {
     "data": {
      "text/html": [
       "<div>\n",
       "<table border=\"1\" class=\"dataframe\">\n",
       "  <thead>\n",
       "    <tr style=\"text-align: right;\">\n",
       "      <th></th>\n",
       "      <th>host_since</th>\n",
       "      <th>city</th>\n",
       "      <th>zipcode</th>\n",
       "      <th>latitude</th>\n",
       "      <th>longitude</th>\n",
       "    </tr>\n",
       "    <tr>\n",
       "      <th>id</th>\n",
       "      <th></th>\n",
       "      <th></th>\n",
       "      <th></th>\n",
       "      <th></th>\n",
       "      <th></th>\n",
       "    </tr>\n",
       "  </thead>\n",
       "  <tbody>\n",
       "    <tr>\n",
       "      <th>3943387</th>\n",
       "      <td>2014-08-23</td>\n",
       "      <td>Bronx</td>\n",
       "      <td>10464</td>\n",
       "      <td>40.839396</td>\n",
       "      <td>-73.781437</td>\n",
       "    </tr>\n",
       "    <tr>\n",
       "      <th>6627449</th>\n",
       "      <td>2014-04-04</td>\n",
       "      <td>City Island</td>\n",
       "      <td>10464</td>\n",
       "      <td>40.849775</td>\n",
       "      <td>-73.786609</td>\n",
       "    </tr>\n",
       "    <tr>\n",
       "      <th>11675715</th>\n",
       "      <td>2016-01-30</td>\n",
       "      <td>City Island</td>\n",
       "      <td>10464</td>\n",
       "      <td>40.850376</td>\n",
       "      <td>-73.784681</td>\n",
       "    </tr>\n",
       "    <tr>\n",
       "      <th>1886820</th>\n",
       "      <td>2013-11-04</td>\n",
       "      <td>Bronx</td>\n",
       "      <td>10464</td>\n",
       "      <td>40.841144</td>\n",
       "      <td>-73.783052</td>\n",
       "    </tr>\n",
       "    <tr>\n",
       "      <th>5557381</th>\n",
       "      <td>2015-03-05</td>\n",
       "      <td>Bronx</td>\n",
       "      <td>10464</td>\n",
       "      <td>40.850024</td>\n",
       "      <td>-73.789328</td>\n",
       "    </tr>\n",
       "    <tr>\n",
       "      <th>958444</th>\n",
       "      <td>2013-02-24</td>\n",
       "      <td>Bronx</td>\n",
       "      <td>10464</td>\n",
       "      <td>40.852350</td>\n",
       "      <td>-73.788728</td>\n",
       "    </tr>\n",
       "    <tr>\n",
       "      <th>8053533</th>\n",
       "      <td>2015-08-25</td>\n",
       "      <td>Bronx</td>\n",
       "      <td>10464</td>\n",
       "      <td>40.848202</td>\n",
       "      <td>-73.789293</td>\n",
       "    </tr>\n",
       "    <tr>\n",
       "      <th>9147025</th>\n",
       "      <td>2011-02-21</td>\n",
       "      <td>Bronx</td>\n",
       "      <td>10464</td>\n",
       "      <td>40.844870</td>\n",
       "      <td>-73.789541</td>\n",
       "    </tr>\n",
       "    <tr>\n",
       "      <th>7949480</th>\n",
       "      <td>2010-05-06</td>\n",
       "      <td>Bronx</td>\n",
       "      <td>10464</td>\n",
       "      <td>40.852054</td>\n",
       "      <td>-73.788680</td>\n",
       "    </tr>\n",
       "    <tr>\n",
       "      <th>755528</th>\n",
       "      <td>2012-09-26</td>\n",
       "      <td>Bronx</td>\n",
       "      <td>10467</td>\n",
       "      <td>40.858397</td>\n",
       "      <td>-73.869686</td>\n",
       "    </tr>\n",
       "    <tr>\n",
       "      <th>501568</th>\n",
       "      <td>2011-11-03</td>\n",
       "      <td>Bronx</td>\n",
       "      <td>10469</td>\n",
       "      <td>40.868983</td>\n",
       "      <td>-73.851274</td>\n",
       "    </tr>\n",
       "    <tr>\n",
       "      <th>4303051</th>\n",
       "      <td>2011-11-03</td>\n",
       "      <td>Bronx</td>\n",
       "      <td>10469</td>\n",
       "      <td>40.868076</td>\n",
       "      <td>-73.848490</td>\n",
       "    </tr>\n",
       "    <tr>\n",
       "      <th>12496118</th>\n",
       "      <td>2014-01-14</td>\n",
       "      <td>Bronx</td>\n",
       "      <td>10469</td>\n",
       "      <td>40.869469</td>\n",
       "      <td>-73.859935</td>\n",
       "    </tr>\n",
       "    <tr>\n",
       "      <th>759901</th>\n",
       "      <td>2011-07-26</td>\n",
       "      <td>Bronx</td>\n",
       "      <td>10469</td>\n",
       "      <td>40.866331</td>\n",
       "      <td>-73.856428</td>\n",
       "    </tr>\n",
       "    <tr>\n",
       "      <th>3429765</th>\n",
       "      <td>2014-06-02</td>\n",
       "      <td>Bronx</td>\n",
       "      <td>10469</td>\n",
       "      <td>40.866889</td>\n",
       "      <td>-73.857756</td>\n",
       "    </tr>\n",
       "  </tbody>\n",
       "</table>\n",
       "</div>"
      ],
      "text/plain": [
       "          host_since         city zipcode   latitude  longitude\n",
       "id                                                             \n",
       "3943387   2014-08-23        Bronx   10464  40.839396 -73.781437\n",
       "6627449   2014-04-04  City Island   10464  40.849775 -73.786609\n",
       "11675715  2016-01-30  City Island   10464  40.850376 -73.784681\n",
       "1886820   2013-11-04        Bronx   10464  40.841144 -73.783052\n",
       "5557381   2015-03-05        Bronx   10464  40.850024 -73.789328\n",
       "958444    2013-02-24        Bronx   10464  40.852350 -73.788728\n",
       "8053533   2015-08-25        Bronx   10464  40.848202 -73.789293\n",
       "9147025   2011-02-21        Bronx   10464  40.844870 -73.789541\n",
       "7949480   2010-05-06        Bronx   10464  40.852054 -73.788680\n",
       "755528    2012-09-26        Bronx   10467  40.858397 -73.869686\n",
       "501568    2011-11-03        Bronx   10469  40.868983 -73.851274\n",
       "4303051   2011-11-03        Bronx   10469  40.868076 -73.848490\n",
       "12496118  2014-01-14        Bronx   10469  40.869469 -73.859935\n",
       "759901    2011-07-26        Bronx   10469  40.866331 -73.856428\n",
       "3429765   2014-06-02        Bronx   10469  40.866889 -73.857756"
      ]
     },
     "execution_count": 3,
     "metadata": {},
     "output_type": "execute_result"
    }
   ],
   "source": [
    "df.head(15)"
   ]
  },
  {
   "cell_type": "code",
   "execution_count": 4,
   "metadata": {
    "collapsed": true
   },
   "outputs": [],
   "source": [
    "def replaceZipcodes(zipcodes,newZipcodes):\n",
    "    '''replaces the zipcode in the dataframe with \n",
    "    a new zipcode'''\n",
    "    for i,z in zip(zipcodes,newZipcodes):\n",
    "        index = df[df['zipcode'] == i].index.tolist()\n",
    "        df.set_value(index,'zipcode',z).head(5)"
   ]
  },
  {
   "cell_type": "code",
   "execution_count": 5,
   "metadata": {
    "collapsed": true
   },
   "outputs": [],
   "source": [
    "zipcodes = ['11426-1175','10002-2289','10003\\n10003','10003-8623','11205-4471','8456422473 call for more details','11103-3233']\n",
    "newZipcodes = ['11426','10002','10003','10003','11205','10021','11103']\n",
    "replaceZipcodes(zipcodes,newZipcodes)"
   ]
  },
  {
   "cell_type": "markdown",
   "metadata": {},
   "source": [
    "#### We defined each neighborhood to be 1x1 mile. Using a calculator (see index below), we found the distance of the longitude to be 32.64 miles (52.53 km) by longitude and 33.64 miles (54.13 km) by latitude. "
   ]
  },
  {
   "cell_type": "markdown",
   "metadata": {},
   "source": [
    "### Assumptions"
   ]
  },
  {
   "cell_type": "markdown",
   "metadata": {},
   "source": [
    "#### We assume every listing in airbnb listing.csv is unique and represents a different home/apartment/sublet (living residence). Furthermore, we will find the number of houses in a neighborhood using motovo.com. All homes listed on motovo.com when we input the zipcode, will represent the number of homes in that zipcode and the neighborhood. "
   ]
  },
  {
   "cell_type": "code",
   "execution_count": 6,
   "metadata": {
    "collapsed": true
   },
   "outputs": [],
   "source": [
    "import geopy"
   ]
  },
  {
   "cell_type": "code",
   "execution_count": 7,
   "metadata": {
    "collapsed": false
   },
   "outputs": [
    {
     "data": {
      "text/plain": [
       "id\n",
       "3943387     10464\n",
       "6627449     10464\n",
       "11675715    10464\n",
       "1886820     10464\n",
       "5557381     10464\n",
       "958444      10464\n",
       "8053533     10464\n",
       "9147025     10464\n",
       "7949480     10464\n",
       "755528      10467\n",
       "Name: zipcode, dtype: object"
      ]
     },
     "execution_count": 7,
     "metadata": {},
     "output_type": "execute_result"
    }
   ],
   "source": [
    "df.zipcode.head(10) # need to count how many zipcodes are NaN"
   ]
  },
  {
   "cell_type": "code",
   "execution_count": 8,
   "metadata": {
    "collapsed": false
   },
   "outputs": [],
   "source": [
    "coordinateList = zip(df.latitude, df.longitude, df.zipcode)"
   ]
  },
  {
   "cell_type": "code",
   "execution_count": 9,
   "metadata": {
    "collapsed": false
   },
   "outputs": [],
   "source": [
    "max_lat = df.max(axis=0)['latitude']\n",
    "max_long =  df.max(axis=0)['longitude']\n",
    "min_lat = df.min(axis=0)['latitude']\n",
    "min_long = df.min(axis=0)['longitude']\n",
    "max_long_row = df.loc[df['longitude']== max_long]\n",
    "min_long_row = df.loc[df['longitude']== min_long]\n",
    "max_lat_row = df.loc[df['latitude']== max_lat]\n",
    "min_lat_row = df.loc[df['latitude']== min_lat]\n",
    "corresponding_long_of_min_lat = -74.240843\n",
    "corresponding_lat_of_min_long = 40.499794"
   ]
  },
  {
   "cell_type": "code",
   "execution_count": 10,
   "metadata": {
    "collapsed": false
   },
   "outputs": [],
   "source": [
    "from geopy import distance\n",
    "\n",
    "def find_distance(in_lat, in_long):\n",
    "    '''Paramters: Lat and long of house listing.\n",
    "       Output: 0 < lat < 33.64 and 0 < long < 32.64\n",
    "       We calculate the long difference and lat difference by isolating the variables and fixing the other \n",
    "       to be the corresponding fixed varaible of the minimum free variable. \n",
    "    '''\n",
    "    diff_long = distance.vincenty((corresponding_lat_of_min_long, in_long), (corresponding_lat_of_min_long, min_long)).miles\n",
    "    diff_lat = distance.vincenty((in_lat,  corresponding_long_of_min_lat), (min_lat, corresponding_long_of_min_lat)).miles\n",
    "    return (diff_lat, diff_long)"
   ]
  },
  {
   "cell_type": "code",
   "execution_count": 11,
   "metadata": {
    "collapsed": false
   },
   "outputs": [
    {
     "data": {
      "text/plain": [
       "(19.58333832402766, 14.396840047098028)"
      ]
     },
     "execution_count": 11,
     "metadata": {},
     "output_type": "execute_result"
    }
   ],
   "source": [
    "find_distance(40.783605,-73.967515)"
   ]
  },
  {
   "cell_type": "code",
   "execution_count": 12,
   "metadata": {
    "collapsed": false
   },
   "outputs": [],
   "source": [
    "import math\n",
    "n_grid = {}\n",
    "n_grid_zipcodes = {}\n",
    "\n",
    "def isNaN(num):\n",
    "    return num != num\n",
    "\n",
    "from decimal import *\n",
    "getcontext().prec = 2\n",
    "\n",
    "def round_num(x):\n",
    "    return int(x)\n",
    "   # return float(\"{0:.2f}\".format(x))\n",
    "index = 0\n",
    "for coor in coordinateList:\n",
    "    latitude,longitude, zipcode = coor\n",
    "    res_distance = find_distance(latitude,longitude)\n",
    "    out_distance = (round_num(res_distance[0]), round_num(res_distance[1]))\n",
    "    # places lat,long values in zipcode grid\n",
    "    if isNaN(zipcode) is False:\n",
    "        if type(zipcode) is float:\n",
    "            zipcode = int(zipcode) \n",
    "        zipcode = str(zipcode)\n",
    "        if n_grid_zipcodes.get(zipcode) is None:\n",
    "            n_grid_zipcodes[zipcode] = set() \n",
    "        n_grid_zipcodes[zipcode].add(out_distance)\n",
    "        \n",
    "    # counts the number of neighborhoods per zipcode\n",
    "    if  n_grid.get(out_distance) is None:\n",
    "        n_grid[out_distance] = []\n",
    "    else:\n",
    "        n_grid[out_distance].append(index)\n",
    "    index = index + 1"
   ]
  },
  {
   "cell_type": "code",
   "execution_count": 13,
   "metadata": {
    "collapsed": false
   },
   "outputs": [],
   "source": [
    "# n_grid "
   ]
  },
  {
   "cell_type": "code",
   "execution_count": 14,
   "metadata": {
    "collapsed": true
   },
   "outputs": [],
   "source": [
    "# n_grid_zipcodes"
   ]
  },
  {
   "cell_type": "code",
   "execution_count": 15,
   "metadata": {
    "collapsed": false
   },
   "outputs": [],
   "source": [
    "n = len(n_grid_zipcodes)"
   ]
  },
  {
   "cell_type": "code",
   "execution_count": 16,
   "metadata": {
    "collapsed": false
   },
   "outputs": [
    {
     "data": {
      "text/plain": [
       "201"
      ]
     },
     "execution_count": 16,
     "metadata": {},
     "output_type": "execute_result"
    }
   ],
   "source": [
    "n"
   ]
  },
  {
   "cell_type": "code",
   "execution_count": 17,
   "metadata": {
    "collapsed": true
   },
   "outputs": [],
   "source": [
    "from itertools import islice\n",
    "def take(n,iterable):\n",
    "    ''''Return first n iterms of the iterable as a list'''\n",
    "    return list(islice(iterable,n))"
   ]
  },
  {
   "cell_type": "code",
   "execution_count": 18,
   "metadata": {
    "collapsed": true
   },
   "outputs": [],
   "source": [
    "firstHalfOrig = [10270,\n",
    "10279,\n",
    "10280,\n",
    "10281,\n",
    "10282,\n",
    "12337,\n",
    "10301,\n",
    "10303,\n",
    "10304,\n",
    "10305,\n",
    "10308,\n",
    "10312,\n",
    "10314,\n",
    "11354,\n",
    "11355,\n",
    "11356,\n",
    "11357,\n",
    "11358,\n",
    "11360,\n",
    "11361,\n",
    "11362,\n",
    "11364,\n",
    "11365,\n",
    "11366,\n",
    "11367,\n",
    "11368,\n",
    "11369,\n",
    "11370,\n",
    "11372,\n",
    "11373,\n",
    "11374,\n",
    "11375,\n",
    "11377,\n",
    "11379,\n",
    "11385,\n",
    "10080,\n",
    "7305,\n",
    "11411,\n",
    "11412,\n",
    "11413,\n",
    "11415,\n",
    "11416,\n",
    "11417,\n",
    "11418,\n",
    "11419,\n",
    "11421,\n",
    "11423,\n",
    "11426,\n",
    "11427,\n",
    "11432,\n",
    "11434,\n",
    "11435,\n",
    "10451,\n",
    "10452,\n",
    "10453,\n",
    "10454,\n",
    "10455,\n",
    "10456,\n",
    "10457,\n",
    "10458,\n",
    "10459,\n",
    "10460,\n",
    "10462,\n",
    "10463,\n",
    "10464,\n",
    "10465,\n",
    "10466,\n",
    "10467,\n",
    "10468,\n",
    "10469,\n",
    "10471,\n",
    "10472,\n",
    "10473,\n",
    "10475,\n",
    "11001,\n",
    "11004,\n",
    "10001,\n",
    "10002,\n",
    "10003,\n",
    "10004,\n",
    "10005,\n",
    "10006]"
   ]
  },
  {
   "cell_type": "code",
   "execution_count": 19,
   "metadata": {
    "collapsed": true
   },
   "outputs": [],
   "source": [
    "firstHalfOrigString = [str(i) for i in firstHalfOrig]\n",
    "b = set(firstHalfOrigString)"
   ]
  },
  {
   "cell_type": "code",
   "execution_count": 20,
   "metadata": {
    "collapsed": false
   },
   "outputs": [],
   "source": [
    "allZipcodes = take((n),n_grid_zipcodes)\n",
    "c = set(allZipcodes)"
   ]
  },
  {
   "cell_type": "code",
   "execution_count": 21,
   "metadata": {
    "collapsed": true
   },
   "outputs": [],
   "source": [
    "secondHalfOrig = c-b"
   ]
  }
 ],
 "metadata": {
  "kernelspec": {
   "display_name": "Python 2",
   "language": "python",
   "name": "python2"
  },
  "language_info": {
   "codemirror_mode": {
    "name": "ipython",
    "version": 2
   },
   "file_extension": ".py",
   "mimetype": "text/x-python",
   "name": "python",
   "nbconvert_exporter": "python",
   "pygments_lexer": "ipython2",
   "version": "2.7.10"
  }
 },
 "nbformat": 4,
 "nbformat_minor": 0
}
