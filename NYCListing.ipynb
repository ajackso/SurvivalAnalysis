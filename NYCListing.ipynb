{
 "cells": [
  {
   "cell_type": "code",
   "execution_count": 79,
   "metadata": {
    "collapsed": true
   },
   "outputs": [],
   "source": [
    "import pandas as pd\n",
    "import pickle"
   ]
  },
  {
   "cell_type": "code",
   "execution_count": 80,
   "metadata": {
    "collapsed": false
   },
   "outputs": [],
   "source": [
    "df = pd.read_pickle(\"NYC_listing_pickle\")"
   ]
  },
  {
   "cell_type": "code",
   "execution_count": 81,
   "metadata": {
    "collapsed": false
   },
   "outputs": [
    {
     "data": {
      "text/html": [
       "<div>\n",
       "<table border=\"1\" class=\"dataframe\">\n",
       "  <thead>\n",
       "    <tr style=\"text-align: right;\">\n",
       "      <th></th>\n",
       "      <th>host_since</th>\n",
       "      <th>city</th>\n",
       "      <th>zipcode</th>\n",
       "      <th>latitude</th>\n",
       "      <th>longitude</th>\n",
       "    </tr>\n",
       "    <tr>\n",
       "      <th>id</th>\n",
       "      <th></th>\n",
       "      <th></th>\n",
       "      <th></th>\n",
       "      <th></th>\n",
       "      <th></th>\n",
       "    </tr>\n",
       "  </thead>\n",
       "  <tbody>\n",
       "    <tr>\n",
       "      <th>3943387</th>\n",
       "      <td>2014-08-23</td>\n",
       "      <td>Bronx</td>\n",
       "      <td>10464</td>\n",
       "      <td>40.839396</td>\n",
       "      <td>-73.781437</td>\n",
       "    </tr>\n",
       "    <tr>\n",
       "      <th>6627449</th>\n",
       "      <td>2014-04-04</td>\n",
       "      <td>City Island</td>\n",
       "      <td>10464</td>\n",
       "      <td>40.849775</td>\n",
       "      <td>-73.786609</td>\n",
       "    </tr>\n",
       "    <tr>\n",
       "      <th>11675715</th>\n",
       "      <td>2016-01-30</td>\n",
       "      <td>City Island</td>\n",
       "      <td>10464</td>\n",
       "      <td>40.850376</td>\n",
       "      <td>-73.784681</td>\n",
       "    </tr>\n",
       "    <tr>\n",
       "      <th>1886820</th>\n",
       "      <td>2013-11-04</td>\n",
       "      <td>Bronx</td>\n",
       "      <td>10464</td>\n",
       "      <td>40.841144</td>\n",
       "      <td>-73.783052</td>\n",
       "    </tr>\n",
       "    <tr>\n",
       "      <th>5557381</th>\n",
       "      <td>2015-03-05</td>\n",
       "      <td>Bronx</td>\n",
       "      <td>10464</td>\n",
       "      <td>40.850024</td>\n",
       "      <td>-73.789328</td>\n",
       "    </tr>\n",
       "    <tr>\n",
       "      <th>958444</th>\n",
       "      <td>2013-02-24</td>\n",
       "      <td>Bronx</td>\n",
       "      <td>10464</td>\n",
       "      <td>40.852350</td>\n",
       "      <td>-73.788728</td>\n",
       "    </tr>\n",
       "    <tr>\n",
       "      <th>8053533</th>\n",
       "      <td>2015-08-25</td>\n",
       "      <td>Bronx</td>\n",
       "      <td>10464</td>\n",
       "      <td>40.848202</td>\n",
       "      <td>-73.789293</td>\n",
       "    </tr>\n",
       "    <tr>\n",
       "      <th>9147025</th>\n",
       "      <td>2011-02-21</td>\n",
       "      <td>Bronx</td>\n",
       "      <td>10464</td>\n",
       "      <td>40.844870</td>\n",
       "      <td>-73.789541</td>\n",
       "    </tr>\n",
       "    <tr>\n",
       "      <th>7949480</th>\n",
       "      <td>2010-05-06</td>\n",
       "      <td>Bronx</td>\n",
       "      <td>10464</td>\n",
       "      <td>40.852054</td>\n",
       "      <td>-73.788680</td>\n",
       "    </tr>\n",
       "    <tr>\n",
       "      <th>755528</th>\n",
       "      <td>2012-09-26</td>\n",
       "      <td>Bronx</td>\n",
       "      <td>10467</td>\n",
       "      <td>40.858397</td>\n",
       "      <td>-73.869686</td>\n",
       "    </tr>\n",
       "    <tr>\n",
       "      <th>501568</th>\n",
       "      <td>2011-11-03</td>\n",
       "      <td>Bronx</td>\n",
       "      <td>10469</td>\n",
       "      <td>40.868983</td>\n",
       "      <td>-73.851274</td>\n",
       "    </tr>\n",
       "    <tr>\n",
       "      <th>4303051</th>\n",
       "      <td>2011-11-03</td>\n",
       "      <td>Bronx</td>\n",
       "      <td>10469</td>\n",
       "      <td>40.868076</td>\n",
       "      <td>-73.848490</td>\n",
       "    </tr>\n",
       "    <tr>\n",
       "      <th>12496118</th>\n",
       "      <td>2014-01-14</td>\n",
       "      <td>Bronx</td>\n",
       "      <td>10469</td>\n",
       "      <td>40.869469</td>\n",
       "      <td>-73.859935</td>\n",
       "    </tr>\n",
       "    <tr>\n",
       "      <th>759901</th>\n",
       "      <td>2011-07-26</td>\n",
       "      <td>Bronx</td>\n",
       "      <td>10469</td>\n",
       "      <td>40.866331</td>\n",
       "      <td>-73.856428</td>\n",
       "    </tr>\n",
       "    <tr>\n",
       "      <th>3429765</th>\n",
       "      <td>2014-06-02</td>\n",
       "      <td>Bronx</td>\n",
       "      <td>10469</td>\n",
       "      <td>40.866889</td>\n",
       "      <td>-73.857756</td>\n",
       "    </tr>\n",
       "  </tbody>\n",
       "</table>\n",
       "</div>"
      ],
      "text/plain": [
       "          host_since         city zipcode   latitude  longitude\n",
       "id                                                             \n",
       "3943387   2014-08-23        Bronx   10464  40.839396 -73.781437\n",
       "6627449   2014-04-04  City Island   10464  40.849775 -73.786609\n",
       "11675715  2016-01-30  City Island   10464  40.850376 -73.784681\n",
       "1886820   2013-11-04        Bronx   10464  40.841144 -73.783052\n",
       "5557381   2015-03-05        Bronx   10464  40.850024 -73.789328\n",
       "958444    2013-02-24        Bronx   10464  40.852350 -73.788728\n",
       "8053533   2015-08-25        Bronx   10464  40.848202 -73.789293\n",
       "9147025   2011-02-21        Bronx   10464  40.844870 -73.789541\n",
       "7949480   2010-05-06        Bronx   10464  40.852054 -73.788680\n",
       "755528    2012-09-26        Bronx   10467  40.858397 -73.869686\n",
       "501568    2011-11-03        Bronx   10469  40.868983 -73.851274\n",
       "4303051   2011-11-03        Bronx   10469  40.868076 -73.848490\n",
       "12496118  2014-01-14        Bronx   10469  40.869469 -73.859935\n",
       "759901    2011-07-26        Bronx   10469  40.866331 -73.856428\n",
       "3429765   2014-06-02        Bronx   10469  40.866889 -73.857756"
      ]
     },
     "execution_count": 81,
     "metadata": {},
     "output_type": "execute_result"
    }
   ],
   "source": [
    "df.head(15)"
   ]
  },
  {
   "cell_type": "code",
   "execution_count": 82,
   "metadata": {
    "collapsed": true
   },
   "outputs": [],
   "source": [
    "def replaceZipcodes(zipcodes,newZipcodes):\n",
    "    '''replaces the zipcode in the dataframe with \n",
    "    a new zipcode'''\n",
    "    for i,z in zip(zipcodes,newZipcodes):\n",
    "        index = df[df['zipcode'] == i].index.tolist()\n",
    "        df.set_value(index,'zipcode',z).head(5)"
   ]
  },
  {
   "cell_type": "code",
   "execution_count": 83,
   "metadata": {
    "collapsed": true
   },
   "outputs": [],
   "source": [
    "zipcodes = ['11426-1175','10002-2289','10003\\n10003','10003-8623','11205-4471','8456422473 call for more details','11103-3233']\n",
    "newZipcodes = ['11426','10002','10003','10003','11205','10021','11103']\n",
    "replaceZipcodes(zipcodes,newZipcodes)"
   ]
  },
  {
   "cell_type": "markdown",
   "metadata": {},
   "source": [
    "#### We defined each neighborhood to be 1x1 mile. Using a calculator (see index below), we found the distance of the longitude to be 32.64 miles (52.53 km) by longitude and 33.64 miles (54.13 km) by latitude. "
   ]
  },
  {
   "cell_type": "markdown",
   "metadata": {},
   "source": [
    "### Assumptions"
   ]
  },
  {
   "cell_type": "markdown",
   "metadata": {},
   "source": [
    "#### We assume every listing in airbnb listing.csv is unique and represents a different home/apartment/sublet (living residence). Furthermore, we will find the number of houses in a neighborhood using motovo.com. All homes listed on motovo.com when we input the zipcode, will represent the number of homes in that zipcode and the neighborhood. "
   ]
  },
  {
   "cell_type": "code",
   "execution_count": 84,
   "metadata": {
    "collapsed": true
   },
   "outputs": [],
   "source": [
    "import geopy"
   ]
  },
  {
   "cell_type": "code",
   "execution_count": 85,
   "metadata": {
    "collapsed": false
   },
   "outputs": [
    {
     "data": {
      "text/plain": [
       "id\n",
       "3943387     10464\n",
       "6627449     10464\n",
       "11675715    10464\n",
       "1886820     10464\n",
       "5557381     10464\n",
       "958444      10464\n",
       "8053533     10464\n",
       "9147025     10464\n",
       "7949480     10464\n",
       "755528      10467\n",
       "Name: zipcode, dtype: object"
      ]
     },
     "execution_count": 85,
     "metadata": {},
     "output_type": "execute_result"
    }
   ],
   "source": [
    "df.zipcode.head(10) # need to count how many zipcodes are NaN"
   ]
  },
  {
   "cell_type": "code",
   "execution_count": 86,
   "metadata": {
    "collapsed": false
   },
   "outputs": [],
   "source": [
    "coordinateList = zip(df.latitude, df.longitude, df.zipcode)"
   ]
  },
  {
   "cell_type": "code",
   "execution_count": 87,
   "metadata": {
    "collapsed": false
   },
   "outputs": [],
   "source": [
    "max_lat = df.max(axis=0)['latitude']\n",
    "max_long =  df.max(axis=0)['longitude']\n",
    "min_lat = df.min(axis=0)['latitude']\n",
    "min_long = df.min(axis=0)['longitude']\n",
    "max_long_row = df.loc[df['longitude']== max_long]\n",
    "min_long_row = df.loc[df['longitude']== min_long]\n",
    "max_lat_row = df.loc[df['latitude']== max_lat]\n",
    "min_lat_row = df.loc[df['latitude']== min_lat]\n",
    "corresponding_long_of_min_lat = -74.240843\n",
    "corresponding_lat_of_min_long = 40.499794"
   ]
  },
  {
   "cell_type": "code",
   "execution_count": 88,
   "metadata": {
    "collapsed": false
   },
   "outputs": [],
   "source": [
    "from geopy import distance\n",
    "\n",
    "def find_distance(in_lat, in_long):\n",
    "    '''Paramters: Lat and long of house listing.\n",
    "       Output: 0 < lat < 33.64 and 0 < long < 32.64\n",
    "       We calculate the long difference and lat difference by isolating the variables and fixing the other \n",
    "       to be the corresponding fixed varaible of the minimum free variable. \n",
    "    '''\n",
    "    diff_long = distance.vincenty((corresponding_lat_of_min_long, in_long), (corresponding_lat_of_min_long, min_long)).miles\n",
    "    diff_lat = distance.vincenty((in_lat,  corresponding_long_of_min_lat), (min_lat, corresponding_long_of_min_lat)).miles\n",
    "    return (diff_lat, diff_long)"
   ]
  },
  {
   "cell_type": "code",
   "execution_count": 89,
   "metadata": {
    "collapsed": false
   },
   "outputs": [
    {
     "data": {
      "text/plain": [
       "(19.58333832402766, 14.396840047098028)"
      ]
     },
     "execution_count": 89,
     "metadata": {},
     "output_type": "execute_result"
    }
   ],
   "source": [
    "find_distance(40.783605,-73.967515)"
   ]
  },
  {
   "cell_type": "code",
   "execution_count": 90,
   "metadata": {
    "collapsed": false
   },
   "outputs": [],
   "source": [
    "import math\n",
    "n_grid = {}\n",
    "n_grid_zipcodes = {}\n",
    "\n",
    "def isNaN(num):\n",
    "    return num != num\n",
    "\n",
    "from decimal import *\n",
    "getcontext().prec = 2\n",
    "\n",
    "def round_num(x):\n",
    "    return int(x)\n",
    "   # return float(\"{0:.2f}\".format(x))\n",
    "index = 0\n",
    "for coor in coordinateList:\n",
    "    latitude,longitude, zipcode = coor\n",
    "    res_distance = find_distance(latitude,longitude)\n",
    "    out_distance = (round_num(res_distance[0]), round_num(res_distance[1]))\n",
    "    # places lat,long values in zipcode grid\n",
    "    if isNaN(zipcode) is False:\n",
    "        if type(zipcode) is float:\n",
    "            zipcode = int(zipcode) \n",
    "        zipcode = str(zipcode)\n",
    "        if n_grid_zipcodes.get(zipcode) is None:\n",
    "            n_grid_zipcodes[zipcode] = set() \n",
    "        n_grid_zipcodes[zipcode].add(out_distance)\n",
    "        \n",
    "    # counts the number of neighborhoods per zipcode\n",
    "    if  n_grid.get(out_distance) is None:\n",
    "        n_grid[out_distance] = []\n",
    "    else:\n",
    "        n_grid[out_distance].append(index)\n",
    "    index = index + 1"
   ]
  },
  {
   "cell_type": "code",
   "execution_count": 105,
   "metadata": {
    "collapsed": true
   },
   "outputs": [],
   "source": [
    "# n_grid "
   ]
  },
  {
   "cell_type": "code",
   "execution_count": 92,
   "metadata": {
    "collapsed": false
   },
   "outputs": [],
   "source": [
    "# import json\n",
    "# with open('n_grid.txt', 'w') as outfile:\n",
    "#     json.dump(str(n_grid), outfile)"
   ]
  },
  {
   "cell_type": "code",
   "execution_count": 93,
   "metadata": {
    "collapsed": true
   },
   "outputs": [],
   "source": [
    "# n_grid_zipcodes"
   ]
  },
  {
   "cell_type": "code",
   "execution_count": 94,
   "metadata": {
    "collapsed": false
   },
   "outputs": [],
   "source": [
    "n = len(n_grid_zipcodes)"
   ]
  },
  {
   "cell_type": "code",
   "execution_count": 95,
   "metadata": {
    "collapsed": false
   },
   "outputs": [
    {
     "data": {
      "text/plain": [
       "201"
      ]
     },
     "execution_count": 95,
     "metadata": {},
     "output_type": "execute_result"
    }
   ],
   "source": [
    "n"
   ]
  },
  {
   "cell_type": "code",
   "execution_count": 96,
   "metadata": {
    "collapsed": true
   },
   "outputs": [],
   "source": [
    "from itertools import islice\n",
    "def take(n,iterable):\n",
    "    ''''Return first n iterms of the iterable as a list'''\n",
    "    return list(islice(iterable,n))"
   ]
  },
  {
   "cell_type": "code",
   "execution_count": 97,
   "metadata": {
    "collapsed": true
   },
   "outputs": [],
   "source": [
    "firstHalfOrig = [10270,10279,10280,10281,10282,12337,10301,10303,10304,10305,10308,10312,10314,11354,11355,11356,11357,\n",
    "11358,11360,11361,11362,11364,11365,11366,11367,11368,11369,11370,11372,11373,11374,11375,11377,11379,11385,10080,7305,\n",
    "11411,11412,11413,11415,11416,11417,11418,11419,11421,11423,11426,11427,11432,11434,11435,10451,10452,10453,10454,\n",
    "10455,10456,10457,10458,10459,10460,10462,10463,10464,10465,10466,10467,10468,10469,10471,10472,10473,10475,11001,\n",
    "11004,10001,10002,10003,10004,10005,10006]"
   ]
  },
  {
   "cell_type": "code",
   "execution_count": 98,
   "metadata": {
    "collapsed": true
   },
   "outputs": [],
   "source": [
    "firstHalfOrigString = [str(i) for i in firstHalfOrig]\n",
    "b = set(firstHalfOrigString)"
   ]
  },
  {
   "cell_type": "code",
   "execution_count": 99,
   "metadata": {
    "collapsed": false
   },
   "outputs": [],
   "source": [
    "allZipcodes = take((n),n_grid_zipcodes)\n",
    "c = set(allZipcodes)"
   ]
  },
  {
   "cell_type": "code",
   "execution_count": 100,
   "metadata": {
    "collapsed": true
   },
   "outputs": [],
   "source": [
    "secondHalfOrig = c-b"
   ]
  },
  {
   "cell_type": "code",
   "execution_count": 120,
   "metadata": {
    "collapsed": false,
    "scrolled": false
   },
   "outputs": [
    {
     "name": "stdout",
     "output_type": "stream",
     "text": [
      "{(15, 27): ['2013-11-04'], (6, 9): ['2013-11-04'], (10, 17): ['2010-05-06'], (24, 17): ['2014-06-02'], (12, 12): ['2013-09-22'], (14, 17): ['2015-09-13'], (17, 20): ['2016-04-17'], (7, 25): ['2013-02-24'], (22, 19): ['2013-02-24'], (13, 17): ['2014-10-24'], (27, 17): ['2014-04-04'], (18, 19): ['2011-11-03'], (17, 25): ['2015-03-05'], (17, 13): ['2015-12-19'], (24, 19): ['2014-06-02'], (8, 5): ['2013-11-04'], (15, 14): ['2013-04-27'], (10, 8): ['2012-09-26'], (6, 7): ['2014-04-04'], (10, 7): ['2014-08-23'], (14, 18): ['2014-06-02'], (11, 12): ['2015-12-27'], (11, 22): ['2014-08-23'], (10, 18): ['2011-11-03'], (15, 11): ['2011-11-03'], (6, 25): ['2016-04-17'], (12, 17): ['2014-11-08'], (26, 17): ['2012-08-13'], (17, 23): ['2013-11-04'], (16, 25): ['2010-05-06'], (13, 20): ['2011-07-26'], (8, 15): ['2012-11-14'], (9, 14): ['2015-09-28'], (7, 10): ['2016-01-30'], (13, 14): ['2012-12-15'], (10, 13): ['2012-11-05'], (9, 3): ['2014-04-04'], (14, 24): ['2013-11-04'], (19, 24): ['2013-11-04'], (9, 16): ['2011-02-21'], (13, 23): ['2015-03-05'], (6, 23): ['2014-05-30'], (12, 11): ['2011-11-03'], (11, 21): ['2014-08-23'], (25, 21): ['2016-01-30'], (16, 19): ['2016-05-04'], (6, 26): ['2014-08-23'], (21, 18): ['2013-11-04'], (20, 14): ['2016-02-27'], (26, 18): ['2014-06-02'], (17, 18): ['2015-12-18'], (23, 19): ['2011-11-03'], (21, 15): ['2014-05-16'], (28, 17): ['2016-01-30'], (8, 12): ['2013-12-08'], (21, 14): ['2014-07-04'], (16, 18): ['2015-12-27'], (5, 14): ['2015-11-30'], (10, 14): ['2014-10-18'], (8, 18): ['2015-03-05'], (14, 21): ['2015-12-27'], (10, 16): ['2014-05-11'], (11, 15): ['2015-11-08'], (24, 21): ['2014-04-04'], (6, 16): ['2014-04-04'], (20, 16): ['2015-01-21'], (11, 16): ['2014-09-22'], (12, 21): ['2015-08-25'], (25, 16): ['2012-01-09'], (15, 13): ['2014-01-09'], (13, 13): ['2015-08-07'], (18, 15): ['2016-05-31'], (13, 26): ['2015-03-05'], (26, 21): ['2010-05-06'], (17, 19): ['2013-07-24'], (9, 4): ['2014-04-04'], (7, 11): ['2014-04-04'], (15, 26): ['2013-11-04'], (14, 22): ['2012-09-26'], (7, 15): ['2015-11-17'], (12, 13): ['2015-11-22'], (25, 19): ['2011-07-26'], (22, 16): ['2016-04-22'], (13, 16): ['2013-01-09'], (12, 24): ['2013-02-24'], (18, 16): ['2016-04-02'], (17, 24): ['2013-02-24'], (23, 21): ['2013-02-24'], (12, 22): ['2014-08-23'], (9, 7): ['2015-11-17'], (6, 4): ['2014-08-23'], (5, 4): ['2014-04-04'], (6, 13): ['2013-11-04'], (15, 25): ['2015-03-05'], (14, 19): ['2015-03-05'], (19, 17): ['2012-08-01'], (10, 19): ['2014-08-23'], (13, 12): ['2013-07-29'], (16, 23): ['2013-11-04'], (12, 18): ['2013-07-26'], (11, 26): ['2013-02-24'], (17, 22): ['2014-01-03'], (24, 15): ['2011-11-27'], (19, 23): ['2014-08-23'], (24, 20): ['2014-04-04'], (18, 21): ['2014-06-02'], (17, 27): ['2013-11-04'], (23, 24): ['2014-08-23'], (26, 20): ['2014-01-14'], (14, 14): ['2012-08-12'], (9, 13): ['2015-06-10'], (8, 3): ['2014-08-23'], (16, 13): ['2016-06-09'], (14, 25): ['2013-11-04'], (5, 7): ['2015-08-25'], (7, 13): ['2014-11-14'], (14, 12): ['2014-07-22'], (5, 20): ['2014-08-23'], (11, 20): ['2014-04-04'], (25, 20): ['2014-11-14'], (16, 20): ['2013-08-06'], (21, 17): ['2014-01-14'], (20, 15): ['2015-09-27'], (11, 25): ['2011-02-21'], (26, 19): ['2015-08-25'], (17, 17): ['2015-01-21'], (23, 18): ['2015-08-25'], (13, 22): ['2011-02-21'], (28, 18): ['2014-08-23'], (18, 22): ['2016-04-17'], (8, 13): ['2011-02-21'], (9, 8): ['2015-09-14'], (13, 19): ['2013-02-24'], (5, 13): ['2010-05-06'], (10, 15): ['2014-08-21'], (14, 26): ['2011-11-03'], (19, 14): ['2015-06-08'], (11, 14): ['2011-07-17'], (10, 26): ['2013-11-04'], (9, 18): ['2014-06-02'], (15, 19): ['2015-09-14'], (22, 14): ['2016-05-10'], (20, 17): ['2014-04-04'], (11, 19): ['2014-06-02'], (17, 15): ['2014-01-05'], (16, 17): ['2015-07-13'], (7, 8): ['2015-03-05'], (21, 20): ['2011-02-21'], (12, 20): ['2014-06-02'], (27, 20): ['2015-08-25'], (18, 12): ['2015-07-21'], (16, 22): ['2011-02-21'], (13, 25): ['2011-07-26'], (8, 10): ['2014-06-02'], (15, 12): ['2013-08-20'], (9, 11): ['2016-06-12'], (23, 15): ['2014-07-16'], (15, 17): ['2010-05-06'], (14, 23): ['2012-09-26'], (11, 13): ['2012-12-15'], (16, 12): ['2013-02-26'], (15, 22): ['2015-03-05'], (12, 14): ['2015-12-04'], (25, 18): ['2014-11-14'], (22, 17): ['2011-07-26'], (13, 15): ['2011-09-12'], (12, 25): ['2012-09-26'], (27, 19): ['2015-03-05'], (18, 17): ['2013-09-22'], (7, 7): ['2015-08-25'], (23, 20): ['2015-11-17'], (8, 7): ['2014-08-23'], (9, 6): ['2016-01-30'], (8, 16): ['2015-11-17'], (15, 24): ['2014-04-04'], (14, 16): ['2014-05-12'], (5, 16): ['2015-08-25'], (19, 15): ['2015-06-12'], (19, 16): ['2014-06-02'], (6, 15): ['2012-09-26'], (15, 21): ['2014-01-14'], (16, 14): ['2015-08-28'], (12, 19): ['2013-08-06'], (17, 21): ['2015-11-30'], (22, 18): ['2012-09-26'], (13, 18): ['2016-04-17'], (7, 9): ['2011-02-21'], (18, 18): ['2015-11-17'], (7, 16): ['2014-08-23'], (3, 4): ['2014-08-23'], (2, 4): ['2014-08-23'], (9, 12): ['2013-05-29'], (8, 4): ['2013-02-24'], (4, 7): ['2015-03-05'], (10, 11): ['2015-08-25'], (15, 20): ['2015-12-27'], (19, 13): ['2012-05-25'], (7, 14): ['2013-08-06'], (14, 13): ['2012-01-05'], (11, 23): ['2011-02-21'], (16, 21): ['2014-06-02'], (6, 24): ['2014-04-04'], (21, 16): ['2013-11-18'], (12, 16): ['2014-03-19'], (11, 24): ['2010-05-06'], (26, 16): ['2014-04-04'], (17, 16): ['2015-07-28'], (13, 21): ['2016-05-19'], (18, 23): ['2013-11-04'], (8, 14): ['2015-05-23'], (3, 3): ['2013-11-04'], (9, 15): ['2013-12-16'], (5, 12): ['2010-05-06'], (10, 12): ['2013-07-02'], (15, 16): ['2010-05-06'], (14, 20): ['2011-07-26'], (8, 8): ['2014-06-02'], (9, 17): ['2014-06-02'], (15, 18): ['2016-04-17'], (6, 22): ['2014-06-02'], (5, 22): ['2014-06-02'], (11, 18): ['2014-11-16'], (6, 14): ['2014-11-14'], (17, 14): ['2015-11-16'], (15, 15): ['2015-01-09'], (21, 19): ['2016-01-30'], (20, 13): ['2013-05-17'], (18, 13): ['2014-02-03'], (0, 0): ['2014-08-23'], (23, 16): ['2015-01-27'], (17, 12): ['2015-07-02'], (13, 24): ['2011-11-03'], (18, 24): ['2015-08-25'], (8, 11): ['2014-06-05'], (15, 23): ['2016-05-19'], (22, 15): ['2015-01-06'], (9, 10): ['2011-02-21'], (23, 17): ['2014-11-14'], (5, 15): ['2015-11-17'], (16, 16): ['2015-08-17'], (7, 12): ['2014-06-02'], (6, 8): ['2011-02-21'], (8, 17): ['2011-07-26'], (6, 12): ['2014-04-04'], (24, 16): ['2016-06-11'], (19, 20): ['2014-08-23'], (12, 23): ['2010-05-06'], (24, 18): ['2012-09-26'], (14, 11): ['2015-06-15'], (12, 15): ['2015-12-05'], (11, 17): ['2016-05-19'], (25, 17): ['2016-06-09'], (22, 22): ['2014-08-23'], (24, 23): ['2013-11-04'], (12, 26): ['2014-08-23'], (27, 18): ['2013-11-04'], (18, 14): ['2016-06-03'], (7, 5): ['2014-04-04'], (16, 15): ['2014-11-23'], (14, 15): ['2015-10-28']}\n"
     ]
    }
   ],
   "source": [
    "weibull_data = {}\n",
    "import time\n",
    "from datetime import datetime\n",
    "\n",
    "''' for j in range(len(value)):\n",
    "    curr_date = df.iloc[i].host_since\n",
    "    date_format = \"%Y-%m-%d\"\n",
    "    a = datetime.strptime(min_value, date_format)\n",
    "    b = datetime.strptime(curr_date, date_format)\n",
    "    delta = b-a\n",
    "    print(delta.days)\n",
    "    relative_deaths.append(delta.days)'''\n",
    "\n",
    "def findMin():\n",
    "    '''find the pioneer - the first home in a \n",
    "    neighborhood to be listed on Airbnb'''\n",
    "    for key, value in n_grid.iteritems():\n",
    "        if len(value) > 0:\n",
    "            min_value = time.strftime(\"%Y-%m-%d\")\n",
    "            for i in range(len(value)):\n",
    "                host_since = df.iloc[i].host_since\n",
    "#                 print(host_since)\n",
    "#                 print type(host_since)\n",
    "                host_datetime = time.strptime(host_since, \"%Y-%m-%d\") \n",
    "#                 print host_datetime\n",
    "                if min_value < host_datetime:\n",
    "                    min_value = host_since\n",
    "    #         print(min_value)\n",
    "            weibull_data[key] = [min_value]\n",
    "        \n",
    "            \n",
    "findMin()\n",
    "print weibull_data\n",
    "    "
   ]
  },
  {
   "cell_type": "code",
   "execution_count": 102,
   "metadata": {
    "collapsed": false
   },
   "outputs": [
    {
     "data": {
      "text/html": [
       "<div>\n",
       "<table border=\"1\" class=\"dataframe\">\n",
       "  <thead>\n",
       "    <tr style=\"text-align: right;\">\n",
       "      <th></th>\n",
       "      <th>host_since</th>\n",
       "      <th>city</th>\n",
       "      <th>zipcode</th>\n",
       "      <th>latitude</th>\n",
       "      <th>longitude</th>\n",
       "    </tr>\n",
       "    <tr>\n",
       "      <th>id</th>\n",
       "      <th></th>\n",
       "      <th></th>\n",
       "      <th></th>\n",
       "      <th></th>\n",
       "      <th></th>\n",
       "    </tr>\n",
       "  </thead>\n",
       "  <tbody>\n",
       "    <tr>\n",
       "      <th>3943387</th>\n",
       "      <td>2014-08-23</td>\n",
       "      <td>Bronx</td>\n",
       "      <td>10464</td>\n",
       "      <td>40.839396</td>\n",
       "      <td>-73.781437</td>\n",
       "    </tr>\n",
       "    <tr>\n",
       "      <th>6627449</th>\n",
       "      <td>2014-04-04</td>\n",
       "      <td>City Island</td>\n",
       "      <td>10464</td>\n",
       "      <td>40.849775</td>\n",
       "      <td>-73.786609</td>\n",
       "    </tr>\n",
       "    <tr>\n",
       "      <th>11675715</th>\n",
       "      <td>2016-01-30</td>\n",
       "      <td>City Island</td>\n",
       "      <td>10464</td>\n",
       "      <td>40.850376</td>\n",
       "      <td>-73.784681</td>\n",
       "    </tr>\n",
       "    <tr>\n",
       "      <th>1886820</th>\n",
       "      <td>2013-11-04</td>\n",
       "      <td>Bronx</td>\n",
       "      <td>10464</td>\n",
       "      <td>40.841144</td>\n",
       "      <td>-73.783052</td>\n",
       "    </tr>\n",
       "    <tr>\n",
       "      <th>5557381</th>\n",
       "      <td>2015-03-05</td>\n",
       "      <td>Bronx</td>\n",
       "      <td>10464</td>\n",
       "      <td>40.850024</td>\n",
       "      <td>-73.789328</td>\n",
       "    </tr>\n",
       "  </tbody>\n",
       "</table>\n",
       "</div>"
      ],
      "text/plain": [
       "          host_since         city zipcode   latitude  longitude\n",
       "id                                                             \n",
       "3943387   2014-08-23        Bronx   10464  40.839396 -73.781437\n",
       "6627449   2014-04-04  City Island   10464  40.849775 -73.786609\n",
       "11675715  2016-01-30  City Island   10464  40.850376 -73.784681\n",
       "1886820   2013-11-04        Bronx   10464  40.841144 -73.783052\n",
       "5557381   2015-03-05        Bronx   10464  40.850024 -73.789328"
      ]
     },
     "execution_count": 102,
     "metadata": {},
     "output_type": "execute_result"
    }
   ],
   "source": [
    "df.head()"
   ]
  },
  {
   "cell_type": "code",
   "execution_count": null,
   "metadata": {
    "collapsed": true
   },
   "outputs": [],
   "source": []
  }
 ],
 "metadata": {
  "kernelspec": {
   "display_name": "Python 2",
   "language": "python",
   "name": "python2"
  },
  "language_info": {
   "codemirror_mode": {
    "name": "ipython",
    "version": 2
   },
   "file_extension": ".py",
   "mimetype": "text/x-python",
   "name": "python",
   "nbconvert_exporter": "python",
   "pygments_lexer": "ipython2",
   "version": "2.7.10"
  }
 },
 "nbformat": 4,
 "nbformat_minor": 0
}
